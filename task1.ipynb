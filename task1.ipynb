{
 "cells": [
  {
   "cell_type": "markdown",
   "metadata": {},
   "source": [
    "<span style=\"font-size: 14pt\">Домашнее задание №1 </span>\n",
    "\n",
    "<span style=\"color: red; font-size: 14pt\">Deadline: 27.02.2018 23:59:59</span>\n",
    "\n",
    "<span style=\"font-size: 10pt\">ФИВТ, АПТ, Курс по машинному обучению, Весна 2018</span>\n",
    "\n",
    "<span style=\"color:blue; font-size: 10pt\">Alexey Romanenko, </span>\n",
    "<span style=\"color:blue; font-size: 10pt; font-family: 'Verdana'\">alexromsput@gmail.com</span>\n"
   ]
  },
  {
   "cell_type": "markdown",
   "metadata": {},
   "source": [
    "<h1 align=\"center\">Organization Info</h1> "
   ]
  },
  {
   "cell_type": "markdown",
   "metadata": {},
   "source": [
    "**Дополнительный материал для выполнения дз**:\n",
    "- Воронцов К. В. Математические методы обучения по прецедентам. 2012. \n",
    "- Мерков А. Б. Распознавание образов. Введение в методы статистического обучения. Едиториал УРСС. 2011. 256 стр.\n",
    "- Hastie T., Tibshirani R., Friedman J. The Elements of Statistical Learning. Springer: Data Mining, Inference, and Prediction. — 2nd ed. — Springer-Verlag. 2009. — 746 p.\n",
    "- C. M. Bishop. Pattern Recognition and Machine Learning. — Springer, Series: Information Science and Statistics. 2006. — 738 p.\n",
    "\n",
    "**Оформление дз**: \n",
    "- Присылайте выполненное задание на почту ``ml.course.mipt@gmail.com``\n",
    "- Укажите тему письма в следующем формате ``ML2018_fall <номер_группы> <фамилия>``, к примеру -- ``ML2018_fall 596 ivanov``\n",
    "- Выполненное дз сохраните в файл ``ML2018_<фамилия>_<группа>_task<номер задания>.ipnb``, к примеру -- ``ML2018_ivanov_596_task1.ipnb``\n",
    "\n",
    "**Вопросы**:\n",
    "- Присылайте вопросы на почту ``ml.course.mipt@gmail.com``\n",
    "- Укажите тему письма в следующем формате ``ML2018_fall Question <Содержание вопроса>``\n",
    "\n",
    "--------\n",
    "- **PS1**: Используются автоматические фильтры, и просто не найдем ваше дз, если вы неаккуратно его подпишите.\n",
    "- **PS2**: Просроченный дедлайн снижает максимальный вес задания по формуле, указнной на первом семинаре\n",
    "- **PS3**: Допустимы исправление кода предложенного кода ниже, если вы считаете"
   ]
  },
  {
   "cell_type": "markdown",
   "metadata": {},
   "source": [
    "<h1 align=\"center\"> Вопросы для самоконтроля </h1> \n",
    "\n",
    "Ниже приводится список вопросов, с ответами на которые может быть полезно разобраться для комфортного выполнения задания.\n",
    "\n",
    "* Основные понятия\n",
    "    1. Что такое задачи классификации, кластеризации и регрессии? Какие из них относятся к supervised learning, а какие - к unsupervised learning?\n",
    "    2. Что такое переобучение и недообучение? Как их можно детектировать?\n",
    "    3. Что такое обучающая и тестовая выборки, кросс-валидация? Как устроена k-fold cross validation?\n",
    "    4. Разложение ошибки метода обучения на bias и Variance: как ведут себя обе величины, когда увеличивается сложность семейства настраиваемых алгоритмов?\n",
    "\n",
    "\n",
    "* Простые методы\n",
    "    1. Как работает kNN в задаче классификации?\n",
    "    2. Как работает kNN с весами объектов в задаче классификации и в задаче регрессии?\n",
    "    3. Как работает наивный байесовский классификатор, в чем заключается его \"наивность\"?\n",
    "    4. Как приближается исходная зависимость y от x в линейной регрессии и как настраиваются веса в ней?\n",
    "    5. В чем суть проклятия размерности?\n",
    "\n",
    "\n",
    "* Измерение ошибки/точности в задачах классификации и регрессии\n",
    "    1. Как вычисляются и в каких задачах (классификации/регрессии) применяются метрики:\n",
    "    accuracy, precision, recall, F1-measure, ROC-AUC, PR-AUC, MSE, MAE, RMSE?\n",
    "    2. Решается задача бинарной классификации (с двумя классами - 0 и 1), в которой при-\n",
    "    меры из класса 0 составляют 95% выборки. Какие метрики из перечисленных в преды-\n",
    "    дущем вопросе предпочтительней использовать?\n",
    "    3. К оценке какой величины для распределения y при условии x приводят MSE и MAE?\n",
    "    4. Какая из метрик должня использоваться в задаче регрессии, чтобы ответ был равен медиане распределения прогнозируемой случайно величины?\n",
    "\n",
    "\n",
    "* Python, numpy, scipy, matplotlib, sklearn, pandas\n",
    "    1. Типы данных list, tuple, dict, set, str, unicode, hashable и unhashable. \n",
    "    2. Зачем нужны numpy и scipy? Какой тип данных в numpy используется для работы с\n",
    "    многомерными массивами? Отличия в индексации двумерного ndarray и списка списков.\n",
    "    3. Как в scipy решить численно несложную оптимизационную задачу? Какие методы оп-\n",
    "    тимизации в нем представлены?\n",
    "    4. Как по списку значений x и списку значений y в этих точках построить график y(x) в\n",
    "    matplotlib?\n",
    "    5. Как в sklearn обучить модель на обучающей выборке и получить прогнозы на тестовой?\n",
    "    6. Какие есть средства для измерения качества модели в sklearn? Как посчтитать качество\n",
    "    в k-fold cross validation?\n",
    "    7. Какие метрики можно использовать в cross_val_score из sklearn?\n",
    "    8. Как считать выборку из csv в pandas DataFrame? А как записать DataFrame в файл? Как\n",
    "    указывать при чтении/записи кодировку, используемые разделители, наличие/отсутствие\n",
    "    заголовков у колонок?"
   ]
  },
  {
   "cell_type": "markdown",
   "metadata": {},
   "source": [
    "<h1 align=\"center\">Теоретические вопросы (2 балла) </h1> "
   ]
  },
  {
   "cell_type": "markdown",
   "metadata": {},
   "source": [
    "** Задача 1**\n",
    "Покажите, что ROC-AUC  в случае, когда классификатор даёт случайные ответы $a(x) = 1$ с вероятностью $p$ и $a(x) = 0$ с вероятностью $1 − p$, будет в среднем равен 0.5 независимо от p и доли класса 1 в обучающей выборке.\n",
    "\n",
    "<Решение:>"
   ]
  },
  {
   "cell_type": "markdown",
   "metadata": {},
   "source": [
    "** Задача 2**\n",
    "Покажите, что с ростом размерности пространства признаков при равномерном распределении точек в кубе $[0; 1]^𝑑$ вероятность попасть в куб $[0; 0, 99]^𝑑$ стремится к нулю. Это одна из иллюстраций проклятия размерностей (dimension curse). Попробуйте придумать или найти еще какую-нибудь иллюстрацию к этому явлению и кратко изложить.\n",
    "\n",
    "<Решение:>"
   ]
  },
  {
   "cell_type": "markdown",
   "metadata": {
    "collapsed": true
   },
   "source": [
    "<h1 align=\"center\">Исследуйте зависимость Bias-Variance для kNN (3 балла) </h1> "
   ]
  },
  {
   "cell_type": "markdown",
   "metadata": {},
   "source": [
    "Используя данные из задачи классификации доходов индивидуума http://archive.ics.uci.edu/ml/machine-learning-databases/adult, постройте зависимость величин bias, variance и noise для следующих пар \"модель|параметр\".\n",
    "Предобработка данных (преобразование признаков, разметка классов) определяется вами. \n",
    "\n",
    "* kNN, $n\\_neigbours$ - число соседей при классификации;\n",
    "* $p$ - степень метрики Минковского;\n",
    "* $\\ell\\_train$ - длина обучающий выборки;\n",
    "\n",
    "\n",
    "По каждому построенному графику (для каждого параметра должен быть отдельный график) объясните полученную картину. Совпадает ли она с теоретическими ожиданиями (см. семинар 2)?"
   ]
  },
  {
   "cell_type": "code",
   "execution_count": 1,
   "metadata": {
    "collapsed": false
   },
   "outputs": [],
   "source": [
    "import numpy as np\n",
    "import matplotlib.pyplot as plt\n",
    "from sklearn.neighbors import KNeighborsClassifier\n",
    "import pandas as pd\n",
    "from tqdm import tqdm\n",
    "from sklearn.model_selection import train_test_split\n",
    "from sklearn import preprocessing\n",
    "\n",
    "\n",
    "%matplotlib inline"
   ]
  },
  {
   "cell_type": "code",
   "execution_count": 2,
   "metadata": {
    "collapsed": false
   },
   "outputs": [],
   "source": [
    "# Settings\n",
    "n_repeat = 100      # Number of iterations for computing expectations\n",
    "test_size = 0.5      # (Relative) Size of the test set\n",
    "\n",
    "# Исследуемая сетка параметров\n",
    "# пояснение: длина train выборки должна варьироваться от 50% до 200% относительно длины тестовой выборки  \n",
    "parameters = {\"k\": range(1, 20), \"p\":  np.arange(1, 10, 0.5), \"l_train\": np.arange(0.5, 2, 0.1)}\n"
   ]
  },
  {
   "cell_type": "code",
   "execution_count": 4,
   "metadata": {
    "collapsed": false
   },
   "outputs": [],
   "source": [
    "# скопипастчено с семинара\n",
    "def number_encode_features(init_df):\n",
    "    result = init_df.copy()\n",
    "    encoders = {}\n",
    "    for column in result.columns:\n",
    "        if result.dtypes[column] == np.object:\n",
    "            encoders[column] = preprocessing.LabelEncoder()\n",
    "            result[column] = encoders[column].fit_transform(result[column])\n",
    "    return result, encoders"
   ]
  },
  {
   "cell_type": "code",
   "execution_count": 6,
   "metadata": {
    "collapsed": false
   },
   "outputs": [],
   "source": [
    "# считываем данные\n",
    "data = pd.read_csv('https://archive.ics.uci.edu/ml/machine-learning-databases/adult/adult.data', header=None)"
   ]
  },
  {
   "cell_type": "code",
   "execution_count": 7,
   "metadata": {
    "collapsed": false
   },
   "outputs": [
    {
     "data": {
      "text/html": [
       "<div>\n",
       "<table border=\"1\" class=\"dataframe\">\n",
       "  <thead>\n",
       "    <tr style=\"text-align: right;\">\n",
       "      <th></th>\n",
       "      <th>age</th>\n",
       "      <th>workclass</th>\n",
       "      <th>fnlwgt</th>\n",
       "      <th>education</th>\n",
       "      <th>educ-num</th>\n",
       "      <th>marital-status</th>\n",
       "      <th>occupation</th>\n",
       "      <th>relationship</th>\n",
       "      <th>race</th>\n",
       "      <th>sex</th>\n",
       "      <th>capital-gain</th>\n",
       "      <th>capital-loss</th>\n",
       "      <th>hours-per-week</th>\n",
       "      <th>native-country</th>\n",
       "      <th>salary</th>\n",
       "    </tr>\n",
       "  </thead>\n",
       "  <tbody>\n",
       "    <tr>\n",
       "      <th>0</th>\n",
       "      <td>39</td>\n",
       "      <td>7</td>\n",
       "      <td>77516</td>\n",
       "      <td>9</td>\n",
       "      <td>13</td>\n",
       "      <td>4</td>\n",
       "      <td>1</td>\n",
       "      <td>1</td>\n",
       "      <td>4</td>\n",
       "      <td>1</td>\n",
       "      <td>2174</td>\n",
       "      <td>0</td>\n",
       "      <td>40</td>\n",
       "      <td>39</td>\n",
       "      <td>0</td>\n",
       "    </tr>\n",
       "    <tr>\n",
       "      <th>1</th>\n",
       "      <td>50</td>\n",
       "      <td>6</td>\n",
       "      <td>83311</td>\n",
       "      <td>9</td>\n",
       "      <td>13</td>\n",
       "      <td>2</td>\n",
       "      <td>4</td>\n",
       "      <td>0</td>\n",
       "      <td>4</td>\n",
       "      <td>1</td>\n",
       "      <td>0</td>\n",
       "      <td>0</td>\n",
       "      <td>13</td>\n",
       "      <td>39</td>\n",
       "      <td>0</td>\n",
       "    </tr>\n",
       "    <tr>\n",
       "      <th>2</th>\n",
       "      <td>38</td>\n",
       "      <td>4</td>\n",
       "      <td>215646</td>\n",
       "      <td>11</td>\n",
       "      <td>9</td>\n",
       "      <td>0</td>\n",
       "      <td>6</td>\n",
       "      <td>1</td>\n",
       "      <td>4</td>\n",
       "      <td>1</td>\n",
       "      <td>0</td>\n",
       "      <td>0</td>\n",
       "      <td>40</td>\n",
       "      <td>39</td>\n",
       "      <td>0</td>\n",
       "    </tr>\n",
       "    <tr>\n",
       "      <th>3</th>\n",
       "      <td>53</td>\n",
       "      <td>4</td>\n",
       "      <td>234721</td>\n",
       "      <td>1</td>\n",
       "      <td>7</td>\n",
       "      <td>2</td>\n",
       "      <td>6</td>\n",
       "      <td>0</td>\n",
       "      <td>2</td>\n",
       "      <td>1</td>\n",
       "      <td>0</td>\n",
       "      <td>0</td>\n",
       "      <td>40</td>\n",
       "      <td>39</td>\n",
       "      <td>0</td>\n",
       "    </tr>\n",
       "    <tr>\n",
       "      <th>4</th>\n",
       "      <td>28</td>\n",
       "      <td>4</td>\n",
       "      <td>338409</td>\n",
       "      <td>9</td>\n",
       "      <td>13</td>\n",
       "      <td>2</td>\n",
       "      <td>10</td>\n",
       "      <td>5</td>\n",
       "      <td>2</td>\n",
       "      <td>0</td>\n",
       "      <td>0</td>\n",
       "      <td>0</td>\n",
       "      <td>40</td>\n",
       "      <td>5</td>\n",
       "      <td>0</td>\n",
       "    </tr>\n",
       "  </tbody>\n",
       "</table>\n",
       "</div>"
      ],
      "text/plain": [
       "   age  workclass  fnlwgt  education  educ-num  marital-status  occupation  \\\n",
       "0   39          7   77516          9        13               4           1   \n",
       "1   50          6   83311          9        13               2           4   \n",
       "2   38          4  215646         11         9               0           6   \n",
       "3   53          4  234721          1         7               2           6   \n",
       "4   28          4  338409          9        13               2          10   \n",
       "\n",
       "   relationship  race  sex  capital-gain  capital-loss  hours-per-week  \\\n",
       "0             1     4    1          2174             0              40   \n",
       "1             0     4    1             0             0              13   \n",
       "2             1     4    1             0             0              40   \n",
       "3             0     2    1             0             0              40   \n",
       "4             5     2    0             0             0              40   \n",
       "\n",
       "   native-country  salary  \n",
       "0              39       0  \n",
       "1              39       0  \n",
       "2              39       0  \n",
       "3              39       0  \n",
       "4               5       0  "
      ]
     },
     "execution_count": 7,
     "metadata": {},
     "output_type": "execute_result"
    }
   ],
   "source": [
    "# преобразуем и кодируем данные\n",
    "columns = ('age workclass fnlwgt education educ-num marital-status occupation relationship '\n",
    "           'race sex capital-gain capital-loss  hours-per-week native-country salary')\n",
    "data.columns = columns.split()\n",
    "data.dropna() # Избавляемся от признаков, информация по которым известна не по всем прецедентам\n",
    "data.drop(labels=['marital-status', 'fnlwgt'], axis=1)\n",
    "encoded_data, encoders = number_encode_features(data)\n",
    "encoded_data.head()"
   ]
  },
  {
   "cell_type": "code",
   "execution_count": 8,
   "metadata": {
    "collapsed": true
   },
   "outputs": [],
   "source": [
    "train, test = train_test_split(encoded_data, test_size=test_size)"
   ]
  },
  {
   "cell_type": "code",
   "execution_count": 9,
   "metadata": {
    "collapsed": false
   },
   "outputs": [
    {
     "name": "stderr",
     "output_type": "stream",
     "text": [
      "100%|██████████| 100/100 [00:00<00:00, 456.44it/s]\n"
     ]
    }
   ],
   "source": [
    "# Для того чтобы оценить bias и variance, нужно сгенерировать\n",
    "# случайные подвыборки с возвращением из исходного массива данных \n",
    "# (бутстрепинг)\n",
    "X_train = []\n",
    "y_train = []\n",
    "for i in tqdm(range(n_repeat)):\n",
    "    sample_train = train.sample(n=len(train), replace=True)\n",
    "    # разбейте sample_train на матрицу признаков и целевой вектор:\n",
    "    X, y = sample_train.iloc[:, 0 : 14], sample_train.iloc[:, 14 : 15] \n",
    "    X_train.append(X)\n",
    "    y_train.append(y)"
   ]
  },
  {
   "cell_type": "code",
   "execution_count": 10,
   "metadata": {
    "collapsed": true
   },
   "outputs": [],
   "source": [
    "n_test = test.shape[0]\n",
    "X_test, y_test = test.iloc[:, 0 : 14], np.ravel(test.iloc[:, 14 : 15])"
   ]
  },
  {
   "cell_type": "markdown",
   "metadata": {},
   "source": [
    "<h3>  Значения error, bias и variance для различных значений параметра p в метрике Минковского: </h3>"
   ]
  },
  {
   "cell_type": "code",
   "execution_count": 11,
   "metadata": {
    "collapsed": true
   },
   "outputs": [],
   "source": [
    "# Для каждого значения параметра оцените значение error, bias и variance согласно следующей схеме\n",
    "p_name ='p'\n",
    "bias_variance_df = pd.DataFrame.from_dict({p_name:parameters[p_name],'bias':list([np.NaN]*len(parameters[p_name]))\n",
    "                                           , 'variance':list([np.NaN]*len(parameters[p_name]))\n",
    "                                           , 'error':list([np.NaN]*len(parameters[p_name]))})"
   ]
  },
  {
   "cell_type": "code",
   "execution_count": 12,
   "metadata": {
    "collapsed": false
   },
   "outputs": [],
   "source": [
    "for parameter in parameters[p_name]:\n",
    "    # Compute predictions\n",
    "    y_predict = np.zeros((n_test, n_repeat))\n",
    "\n",
    "    for i in range(n_repeat):\n",
    "        estimator = KNeighborsClassifier(p=parameter, n_jobs=-1).fit(X_train[i], np.ravel(y_train[i]))\n",
    "        y_predict[:, i] = estimator.predict(X_test)\n",
    "\n",
    "    # Bias^2 + Variance + Noise decomposition of the mean squared error\n",
    "    y_error = np.zeros(n_test)\n",
    "\n",
    "    for i in range(n_repeat):\n",
    "        y_error += (y_test - y_predict[:, i]) ** 2 \n",
    "\n",
    "    y_error /= n_repeat\n",
    "\n",
    "    # В каждой точке тестовой выборки bias положим равным квадрату разности реального значения \n",
    "    # и среднего предсказанного значения по всем обучающим выборкам.\n",
    "    y_bias = (y_test - np.mean(y_predict, axis=1)) ** 2\n",
    "    \n",
    "    # Variance положим равным среднеквадратичному разбросу значений по всем обучающим выборкам. \n",
    "    # Итоговое значение bias и variance возьмём равным среднему по всем точкам тестовой выборки\n",
    "    y_var = np.var(y_predict, axis=1)\n",
    "    \n",
    "    bias_variance_df.loc[bias_variance_df[p_name]==parameter, 'bias'] = y_bias.mean() \n",
    "    bias_variance_df.loc[bias_variance_df[p_name]==parameter, 'variance'] = y_var.mean() \n",
    "    bias_variance_df.loc[bias_variance_df[p_name]==parameter, 'error'] = y_error.mean() "
   ]
  },
  {
   "cell_type": "code",
   "execution_count": 14,
   "metadata": {
    "collapsed": false
   },
   "outputs": [
    {
     "data": {
      "text/plain": [
       "<matplotlib.axes._subplots.AxesSubplot at 0x110f4e9e8>"
      ]
     },
     "execution_count": 14,
     "metadata": {},
     "output_type": "execute_result"
    },
    {
     "data": {
      "text/plain": [
       "<matplotlib.figure.Figure at 0x11188c278>"
      ]
     },
     "metadata": {},
     "output_type": "display_data"
    },
    {
     "data": {
      "image/png": "[encoded data removed]",
      "text/plain": [
       "<matplotlib.figure.Figure at 0x11188c9e8>"
      ]
     },
     "metadata": {},
     "output_type": "display_data"
    }
   ],
   "source": [
    "plt.figure(figsize=(10, 8))\n",
    "bias_variance_df.set_index(p_name).plot()"
   ]
  },
  {
   "cell_type": "code",
   "execution_count": 15,
   "metadata": {
    "collapsed": false
   },
   "outputs": [
    {
     "data": {
      "image/png": "[encoded data removed]",
      "text/plain": [
       "<matplotlib.figure.Figure at 0x114ec14e0>"
      ]
     },
     "metadata": {},
     "output_type": "display_data"
    },
    {
     "data": {
      "image/png": "[encoded data removed]",
      "text/plain": [
       "<matplotlib.figure.Figure at 0x124b16978>"
      ]
     },
     "metadata": {},
     "output_type": "display_data"
    },
    {
     "data": {
      "image/png": "[encoded data removed]",
      "text/plain": [
       "<matplotlib.figure.Figure at 0x124bc0dd8>"
      ]
     },
     "metadata": {},
     "output_type": "display_data"
    }
   ],
   "source": [
    "# нарисуйте зависимость bias, variance и error от значений параметров\n",
    "bias_variance_df.plot.line('p', 'error')\n",
    "plt.show()\n",
    "bias_variance_df.plot.line('p', 'bias')\n",
    "plt.show()\n",
    "bias_variance_df.plot.line('p', 'variance')\n",
    "plt.show()"
   ]
  },
  {
   "cell_type": "markdown",
   "metadata": {},
   "source": [
    "<h3>  Значения error, bias и variance для различных значений параметра k -- количества соседей: </h3>"
   ]
  },
  {
   "cell_type": "code",
   "execution_count": 17,
   "metadata": {
    "collapsed": false
   },
   "outputs": [],
   "source": [
    "p_name ='k'\n",
    "bias_variance_df = pd.DataFrame.from_dict({p_name:parameters[p_name],'bias':list([np.NaN]*len(parameters[p_name]))\n",
    "                                           , 'variance':list([np.NaN]*len(parameters[p_name]))\n",
    "                                           , 'error':list([np.NaN]*len(parameters[p_name]))})\n",
    "\n",
    "for parameter in parameters[p_name]:\n",
    "    # Compute predictions\n",
    "    y_predict = np.zeros((n_test, n_repeat))\n",
    "\n",
    "    for i in range(n_repeat):\n",
    "        estimator = KNeighborsClassifier(n_neighbors=parameter, n_jobs=-1).fit(X_train[i], np.ravel(y_train[i]))\n",
    "        y_predict[:, i] = estimator.predict(X_test)\n",
    "\n",
    "    # Bias^2 + Variance + Noise decomposition of the mean squared error\n",
    "    y_error = np.zeros(n_test)\n",
    "\n",
    "    for i in range(n_repeat):\n",
    "        y_error += (y_test - y_predict[:, i]) ** 2 \n",
    "\n",
    "    y_error /= n_repeat\n",
    "\n",
    "    # В каждой точке тестовой выборки bias положим равным квадрату разности реального значения \n",
    "    # и среднего предсказанного значения по всем обучающим выборкам.\n",
    "    y_bias = (y_test - np.mean(y_predict, axis=1)) ** 2\n",
    "    \n",
    "    # Variance положим равным среднеквадратичному разбросу значений по всем обучающим выборкам. \n",
    "    # Итоговое значение bias и variance возьмём равным среднему по всем точкам тестовой выборки\n",
    "    y_var = np.var(y_predict, axis=1)\n",
    "    \n",
    "    bias_variance_df.loc[bias_variance_df[p_name]==parameter, 'bias'] = y_bias.mean() \n",
    "    bias_variance_df.loc[bias_variance_df[p_name]==parameter, 'variance'] = y_var.mean() \n",
    "    bias_variance_df.loc[bias_variance_df[p_name]==parameter, 'error'] = y_error.mean() "
   ]
  },
  {
   "cell_type": "code",
   "execution_count": 19,
   "metadata": {
    "collapsed": false
   },
   "outputs": [
    {
     "data": {
      "text/plain": [
       "<matplotlib.axes._subplots.AxesSubplot at 0x124bd7978>"
      ]
     },
     "execution_count": 19,
     "metadata": {},
     "output_type": "execute_result"
    },
    {
     "data": {
      "text/plain": [
       "<matplotlib.figure.Figure at 0x124c62438>"
      ]
     },
     "metadata": {},
     "output_type": "display_data"
    },
    {
     "data": {
      "image/png": "[encoded data removed]",
      "text/plain": [
       "<matplotlib.figure.Figure at 0x124a9b240>"
      ]
     },
     "metadata": {},
     "output_type": "display_data"
    }
   ],
   "source": [
    "plt.figure(figsize=(10, 8))\n",
    "bias_variance_df.set_index(p_name).plot()"
   ]
  },
  {
   "cell_type": "code",
   "execution_count": 20,
   "metadata": {
    "collapsed": false
   },
   "outputs": [
    {
     "data": {
      "image/png": "[encoded data removed]",
      "text/plain": [
       "<matplotlib.figure.Figure at 0x124c68e48>"
      ]
     },
     "metadata": {},
     "output_type": "display_data"
    },
    {
     "data": {
      "image/png": "[encoded data removed]",
      "text/plain": [
       "<matplotlib.figure.Figure at 0x1207922e8>"
      ]
     },
     "metadata": {},
     "output_type": "display_data"
    },
    {
     "data": {
      "image/png": "[encoded data removed]",
      "text/plain": [
       "<matplotlib.figure.Figure at 0x124b6da90>"
      ]
     },
     "metadata": {},
     "output_type": "display_data"
    }
   ],
   "source": [
    "# нарисуйте зависимость bias, variance и error от значений параметров\n",
    "bias_variance_df.plot.line('k', 'error')\n",
    "plt.show()\n",
    "bias_variance_df.plot.line('k', 'bias')\n",
    "plt.show()\n",
    "bias_variance_df.plot.line('k', 'variance')\n",
    "plt.show()"
   ]
  },
  {
   "cell_type": "markdown",
   "metadata": {},
   "source": [
    "<h3>  Значения error, bias и variance для различных значений параметра l_train -- размера обучающей выборки: </h3>"
   ]
  },
  {
   "cell_type": "code",
   "execution_count": 21,
   "metadata": {
    "collapsed": false
   },
   "outputs": [
    {
     "name": "stderr",
     "output_type": "stream",
     "text": [
      "100%|██████████| 100/100 [00:00<00:00, 642.70it/s]\n",
      "100%|██████████| 100/100 [00:00<00:00, 612.63it/s]\n",
      "100%|██████████| 100/100 [00:00<00:00, 592.03it/s]\n",
      "100%|██████████| 100/100 [00:00<00:00, 533.30it/s]\n",
      "100%|██████████| 100/100 [00:00<00:00, 467.87it/s]\n",
      "100%|██████████| 100/100 [00:00<00:00, 447.69it/s]\n",
      "100%|██████████| 100/100 [00:00<00:00, 396.47it/s]\n",
      "100%|██████████| 100/100 [00:00<00:00, 355.69it/s]\n",
      "100%|██████████| 100/100 [00:00<00:00, 331.94it/s]\n",
      "100%|██████████| 100/100 [00:00<00:00, 370.75it/s]\n",
      "100%|██████████| 100/100 [00:00<00:00, 350.69it/s]\n",
      "100%|██████████| 100/100 [00:00<00:00, 346.74it/s]\n",
      "100%|██████████| 100/100 [00:00<00:00, 242.81it/s]\n",
      "100%|██████████| 100/100 [00:00<00:00, 326.75it/s]\n",
      "100%|██████████| 100/100 [00:00<00:00, 304.18it/s]\n"
     ]
    }
   ],
   "source": [
    "p_name ='l_train'\n",
    "bias_variance_df = pd.DataFrame.from_dict({p_name:parameters[p_name],'bias':list([np.NaN]*len(parameters[p_name]))\n",
    "                                           , 'variance':list([np.NaN]*len(parameters[p_name]))\n",
    "                                           , 'error':list([np.NaN]*len(parameters[p_name]))})\n",
    "\n",
    "for parameter in parameters[p_name]:\n",
    "    train, test = train_test_split(encoded_data, test_size=1/(1 + parameter))\n",
    "    X_test, y_test = test.iloc[:, 0 : 14], np.ravel(test.iloc[:, 14 : 15])\n",
    "    n_test = test.shape[0]\n",
    "\n",
    "\n",
    "    X_train = []\n",
    "    y_train = []\n",
    "    for i in tqdm(range(n_repeat)):\n",
    "        sample_train = train.sample(n=len(train), replace=True)\n",
    "        # разбейте sample_train на матрицу признаков и целевой вектор:\n",
    "        X, y = sample_train.iloc[:, 0 : 14], sample_train.iloc[:, 14 : 15] \n",
    "        X_train.append(X)\n",
    "        y_train.append(y)\n",
    "        \n",
    "    \n",
    "    # Compute predictions\n",
    "    y_predict = np.zeros((n_test, n_repeat))\n",
    "\n",
    "    for i in range(n_repeat):\n",
    "        estimator = KNeighborsClassifier(n_jobs=-1).fit(X_train[i], np.ravel(y_train[i]))\n",
    "        y_predict[:, i] = estimator.predict(X_test)\n",
    "\n",
    "    # Bias^2 + Variance + Noise decomposition of the mean squared error\n",
    "    y_error = np.zeros(n_test)\n",
    "\n",
    "    for i in range(n_repeat):\n",
    "        y_error += (y_test - y_predict[:, i]) ** 2 \n",
    "\n",
    "    y_error /= n_repeat\n",
    "\n",
    "    # В каждой точке тестовой выборки bias положим равным квадрату разности реального значения \n",
    "    # и среднего предсказанного значения по всем обучающим выборкам.\n",
    "    y_bias = (y_test - np.mean(y_predict, axis=1)) ** 2\n",
    "    \n",
    "    # Variance положим равным среднеквадратичному разбросу значений по всем обучающим выборкам. \n",
    "    # Итоговое значение bias и variance возьмём равным среднему по всем точкам тестовой выборки\n",
    "    y_var = np.var(y_predict, axis=1)\n",
    "    \n",
    "    bias_variance_df.loc[bias_variance_df[p_name]==parameter, 'bias'] = y_bias.mean() \n",
    "    bias_variance_df.loc[bias_variance_df[p_name]==parameter, 'variance'] = y_var.mean() \n",
    "    bias_variance_df.loc[bias_variance_df[p_name]==parameter, 'error'] = y_error.mean() "
   ]
  },
  {
   "cell_type": "code",
   "execution_count": 33,
   "metadata": {
    "collapsed": false
   },
   "outputs": [
    {
     "data": {
      "text/plain": [
       "<matplotlib.axes._subplots.AxesSubplot at 0x1065e78d0>"
      ]
     },
     "execution_count": 33,
     "metadata": {},
     "output_type": "execute_result"
    },
    {
     "data": {
      "text/plain": [
       "<matplotlib.figure.Figure at 0x1116eecf8>"
      ]
     },
     "metadata": {},
     "output_type": "display_data"
    },
    {
     "data": {
      "image/png": "[encoded data removed]",
      "text/plain": [
       "<matplotlib.figure.Figure at 0x1065fb160>"
      ]
     },
     "metadata": {},
     "output_type": "display_data"
    }
   ],
   "source": [
    "plt.figure(figsize=(10, 8))\n",
    "bias_variance_df.set_index(p_name).plot()"
   ]
  },
  {
   "cell_type": "code",
   "execution_count": 34,
   "metadata": {
    "collapsed": false
   },
   "outputs": [
    {
     "data": {
      "image/png": "[encoded data removed]",
      "text/plain": [
       "<matplotlib.figure.Figure at 0x114ed57b8>"
      ]
     },
     "metadata": {},
     "output_type": "display_data"
    },
    {
     "data": {
      "image/png": "[encoded data removed]",
      "text/plain": [
       "<matplotlib.figure.Figure at 0x124ae2e80>"
      ]
     },
     "metadata": {},
     "output_type": "display_data"
    },
    {
     "data": {
      "image/png": "[encoded data removed]",
      "text/plain": [
       "<matplotlib.figure.Figure at 0x124b6d128>"
      ]
     },
     "metadata": {},
     "output_type": "display_data"
    }
   ],
   "source": [
    "bias_variance_df.plot.line('l_train', 'error')\n",
    "plt.show()\n",
    "bias_variance_df.plot.line('l_train', 'bias')\n",
    "plt.show()\n",
    "bias_variance_df.plot.line('l_train', 'variance')\n",
    "plt.show()"
   ]
  },
  {
   "cell_type": "markdown",
   "metadata": {},
   "source": [
    "<h2 align=\"center\">Реализуйте kNN (2 балла)</h2>"
   ]
  },
  {
   "cell_type": "code",
   "execution_count": 45,
   "metadata": {
    "collapsed": false
   },
   "outputs": [],
   "source": [
    "import warnings\n",
    "import numpy as np\n",
    "from scipy.spatial.distance import cdist\n",
    "warnings.simplefilter(\"ignore\")\n"
   ]
  },
  {
   "cell_type": "code",
   "execution_count": 64,
   "metadata": {
    "collapsed": true
   },
   "outputs": [],
   "source": [
    "class kNNClassifier():\n",
    "    def __init__(self, n_neighbours, metric):\n",
    "        \"\"\"\n",
    "        Parameters\n",
    "        ----------\n",
    "        n_neighbours: int\n",
    "            Число соседей\n",
    "\n",
    "        metric: *alias\n",
    "            метрика измерения расстояний\n",
    "\n",
    "          \"\"\"\n",
    "        assert (n_neighbours > 0)\n",
    "        self.n_neighbours = n_neighbours\n",
    "        self.metric = metric\n",
    "        \n",
    "    def fit(self, X, y):\n",
    "        \"\"\"\n",
    "        \n",
    "        Parameters\n",
    "        ----------\n",
    "        X: 2d np.array\n",
    "        y: 1d np.array\n",
    "        \"\"\"\n",
    "\n",
    "        # Тут храните описание объектов обучающей выборки\n",
    "        self.X_learn = X\n",
    "\n",
    "        # Тут храните ответы по каждому объекту обучающей выборки\n",
    "        self.y_learn = y\n",
    "\n",
    "        \n",
    "        return self\n",
    "    \n",
    "    def predict(self, X):\n",
    "        \"\"\"\n",
    "\n",
    "        Parameters\n",
    "        ----------\n",
    "        X: 2d np.array матрица объекты признаки на которых нужно сказать ответ\n",
    "\n",
    "        Returns\n",
    "        -------\n",
    "        y_pred: 1d np.array, вектор классов для каждого объекта\n",
    "        \"\"\"\n",
    "\n",
    "            \n",
    "        # =======================================\n",
    "        # рассчитайте расстояние до каждого объекта обучающей выборки\n",
    "        # ======================================\n",
    "        dist = cdist(X, self.X_learn, self.metric) # Храните тут расстояния до каждого элемента обучающей выборки\n",
    "        \n",
    "        y_pred = np.zeros(X.shape[0])\n",
    "        \n",
    "        # =======================================\n",
    "        # предскажите класс каждого из объектов\n",
    "        # =======================================\n",
    "        for i in range(X.shape[0]):\n",
    "            sorted_index = (np.argsort(dist[i]))\n",
    "            answers = self.y_learn[sorted_index[0: self.n_neighbours]]\n",
    "            y_pred[i] = np.round(answers.mean())\n",
    "        \n",
    "        return y_pred"
   ]
  },
  {
   "cell_type": "code",
   "execution_count": 65,
   "metadata": {
    "collapsed": true
   },
   "outputs": [],
   "source": [
    "# Запустите ваш алгоритм на данных http://archive.ics.uci.edu/ml/machine-learning-databases/adult\n",
    "X_train, X_test, y_train, y_test = train_test_split(encoded_data.iloc[:, 0:14],\n",
    "                                                    encoded_data.iloc[:, 14:15], test_size=0.5)"
   ]
  },
  {
   "cell_type": "code",
   "execution_count": 103,
   "metadata": {
    "collapsed": false
   },
   "outputs": [
    {
     "name": "stdout",
     "output_type": "stream",
     "text": [
      "for 3 neighbours accuracy_score on train sample: 0.8593980343980344\n",
      "\n",
      "for 3 neighbours accuracy_score on test sample: 0.7565874332043486\n",
      "\n",
      "for 5 neighbours accuracy_score on train sample: 0.831081081081081\n",
      "\n",
      "for 5 neighbours accuracy_score on test sample: 0.7713285424728211\n",
      "\n",
      "for 10 neighbours accuracy_score on train sample: 0.8097665847665848\n",
      "\n",
      "for 10 neighbours accuracy_score on test sample: 0.7957742153430379\n",
      "\n"
     ]
    }
   ],
   "source": [
    "from sklearn.metrics import accuracy_score\n",
    "# =======================================\n",
    "# Обучите классификатор при k=3, 5, и 10\n",
    "# =======================================\n",
    "for k in [3, 5, 10]:\n",
    "    clf = kNNClassifier(n_neighbours=k, metric='euclidean').fit(X_train, np.ravel(y_train))\n",
    "    print ('for {k} neighbours accuracy_score on train sample: {accuracy}\\n'\n",
    "           .format(k=k,accuracy=accuracy_score(clf.predict(X_train), y_train)))\n",
    "    print ('for {k} neighbours accuracy_score on test sample: {accuracy}\\n'\n",
    "           .format(k=k, accuracy=accuracy_score(clf.predict(X_test), y_test)))\n"
   ]
  },
  {
   "cell_type": "markdown",
   "metadata": {},
   "source": [
    "<h1 align=\"center\">Отбор признаков (3 балла) </h1>"
   ]
  },
  {
   "cell_type": "markdown",
   "metadata": {},
   "source": [
    "Реализуйте алгоритм отбора признаков ADD_DELL и примените его для kNN на данных sklearn.datasets.digits(). \n",
    "Для этого предлагается реализовать следующие функции"
   ]
  },
  {
   "cell_type": "code",
   "execution_count": 229,
   "metadata": {
    "collapsed": true
   },
   "outputs": [],
   "source": [
    "# обновление минимального значения ошибки\n",
    "def update_Q_min_index(estimator, Q_min, Q_min_set, Q_min_index, feature_set,\n",
    "                       X_train, Y_train, X_test, Y_test, update_equal=False):\n",
    "    feature_set_size = len(feature_set)\n",
    "#     print('feature set size in update_Q: {}'.format(feature_set_size))\n",
    "\n",
    "    estimator.fit(X_train[:, feature_set], Y_train)\n",
    "    error = 1 - accuracy_score(Y_test, estimator.predict(X_test[:, feature_set]))\n",
    "    if error < Q_min[feature_set_size]:\n",
    "        Q_min_set[feature_set_size] = feature_set\n",
    "        Q_min[feature_set_size] = error\n",
    "        if ((Q_min[feature_set_size] < Q_min[Q_min_index])\n",
    "                or (update_equal and Q_min[feature_set_size] == Q_min[Q_min_index])):\n",
    "            Q_min_index = feature_set_size\n",
    "    return Q_min_index"
   ]
  },
  {
   "cell_type": "code",
   "execution_count": 230,
   "metadata": {
    "collapsed": true
   },
   "outputs": [],
   "source": [
    "# Нужно реализовать алгоритм добавление\n",
    "def add_one(estimator, feature_set, X_train, Y_train, X_test, Y_test, look_forward=10, start_feature_set=[]):\n",
    "    Q_min = {0: float('+inf')} # словарь с значением минимальной ошибки\n",
    "    Q_min_set = {0: []}\n",
    "    Q_min_index = 0\n",
    "    \n",
    "    # инициализация стартового набора признаков     \n",
    "    if start_feature_set:\n",
    "        estimator.fit(X_train[:, feature_set], Y_train)\n",
    "        error = 1 - accuracy_score(Y_test, estimator.predict(X_test[:, feature_set]))\n",
    "        Q_min = {len(start_feature_set) : error}\n",
    "        Q_min_set = {len(start_feature_set) : start_feature_set}\n",
    "        Q_min_index = len(start_feature_set)\n",
    "    \n",
    "    # добавление признаков\n",
    "    for feature_set_size in range(len(start_feature_set) + 1, len(feature_set) + 1):\n",
    "        \n",
    "        #print('feature set size: {}'.format(feature_set_size))\n",
    "        \n",
    "        Q_min[feature_set_size] = float('+inf')\n",
    "        unused_features = set(feature_set).difference(set(Q_min_set[feature_set_size - 1]))\n",
    "        unused_features = list(unused_features)\n",
    "        #shuffle(unused_features)        \n",
    "        min_error = 1.0\n",
    "        for feature in unused_features:\n",
    "            \n",
    "            \n",
    "            #print('feature: {}'.format(feature))\n",
    "            \n",
    "            \n",
    "            #найдем признак, наиболее выгодный для добавления\n",
    "            trial_feature_set = copy.copy(Q_min_set[feature_set_size - 1])\n",
    "            trial_feature_set.append(feature)\n",
    "            \n",
    "            #print('trial_feature_set size: {}'.format(len(trial_feature_set)))\n",
    "            \n",
    "            estimator.fit(X_train[:, trial_feature_set], Y_train)\n",
    "            cur_error = 1 - accuracy_score(Y_test, estimator.predict(X_test[:, trial_feature_set]))\n",
    "            if cur_error < min_error:\n",
    "                new_feature_set = trial_feature_set # обновите список признаков \n",
    "                min_error = cur_error\n",
    "        Q_min_index = update_Q_min_index(estimator, Q_min, Q_min_set, Q_min_index, new_feature_set,\n",
    "                       X_train, Y_train, X_test, Y_test)\n",
    "        \n",
    "        print('Q_min: {}, set_size: {}, added: {}'.format(Q_min[feature_set_size],\n",
    "                                                          feature_set_size, Q_min_set[feature_set_size][-1]))        \n",
    "    \n",
    "    # критерий останова\n",
    "        if Q_min_index + look_forward <= feature_set_size:\n",
    "            break\n",
    "    return Q_min_set[Q_min_index]"
   ]
  },
  {
   "cell_type": "code",
   "execution_count": 231,
   "metadata": {
    "collapsed": true
   },
   "outputs": [],
   "source": [
    "def del_one(estimator, feature_set, X_train, Y_train, X_test, Y_test, look_forward=10):\n",
    "    \n",
    "#     инициализация\n",
    "    estimator.fit(X_train[:, feature_set], Y_train)\n",
    "    error = 1 - accuracy_score(Y_test, estimator.predict(X_test[:, feature_set]))\n",
    "    Q_min = {len(feature_set): error}\n",
    "    Q_min_set = {len(feature_set): copy.deepcopy(feature_set)}\n",
    "    Q_min_index = len(feature_set)\n",
    "    \n",
    "#     итерационное удаление признаков\n",
    "    for feature_set_size in list(range(len(feature_set) - 1, 0, -1)):\n",
    "        print('feature set size: {}'.format(feature_set_size))\n",
    "        Q_min[feature_set_size] = float('+inf')\n",
    "        #print('Q_min_set: {}'.format(Q_min_set))\n",
    "        features = copy.copy(Q_min_set[feature_set_size + 1])\n",
    "        # shuffle(features)\n",
    "        min_error = 1.0\n",
    "        for feature in features:\n",
    "            #print('feature: {}'.format(feature))\n",
    "            trial_feature_set = copy.copy(Q_min_set[feature_set_size + 1])\n",
    "            #print('trial_feature_set: {}'.format(trial_feature_set))\n",
    "\n",
    "            trial_feature_set.remove(feature)\n",
    "            \n",
    "            #print('trial_feature_set after remove: {}'.format(trial_feature_set))\n",
    "            \n",
    "            estimator.fit(X_train[:, trial_feature_set], Y_train)\n",
    "            cur_error = 1 - accuracy_score(Y_test, estimator.predict(X_test[:, trial_feature_set]))\n",
    "            if cur_error < min_error:\n",
    "                new_feature_set = trial_feature_set\n",
    "                min_error = cur_error\n",
    "        Q_min_index = update_Q_min_index(estimator, Q_min, Q_min_set, Q_min_index, new_feature_set,\n",
    "                       X_train, Y_train, X_test, Y_test)\n",
    "      \n",
    "        print ('Q_min: {}, set_size: {}, deleted: {}'.format(Q_min[feature_set_size], feature_set_size, \n",
    "               set(Q_min_set[feature_set_size + 1]).difference(set(Q_min_set[feature_set_size]))))\n",
    "        \n",
    "        \n",
    "#         критерий останова\n",
    "        if feature_set_size + look_forward <= Q_min_index:\n",
    "            break\n",
    "    return Q_min_set[Q_min_index]"
   ]
  },
  {
   "cell_type": "code",
   "execution_count": 232,
   "metadata": {
    "collapsed": true
   },
   "outputs": [],
   "source": [
    "# Наконец, реализуйте ADD-DELL\n",
    "def add_del(estimator, feature_set, X_train, Y_train, X_test, Y_test, look_forward=10):\n",
    "    Q_min = None\n",
    "    Q_min_current = float('+inf')\n",
    "    start_feature_set = []\n",
    "    \n",
    "#     количество итераций, приведших к увеличению ошибки\n",
    "    bad_iteration_count = 2\n",
    "    \n",
    "    while (Q_min is None) or (Q_min_current < Q_min or bad_iteration_count):\n",
    "        Q_min = Q_min_current\n",
    "        start_feature_set = add_one(estimator, feature_set, X_train, Y_train, X_test, Y_test,\n",
    "                                    look_forward, start_feature_set=start_feature_set)\n",
    "#         print('start_feature_set size after add: {}'.format(len(start_feature_set)))\n",
    "        start_feature_set = del_one(estimator, start_feature_set, X_train, Y_train, X_test, Y_test, look_forward)\n",
    "        estimator.fit(X_train[:, start_feature_set], Y_train)\n",
    "        Q_min_current = 1 - accuracy_score(Y_test, estimator.predict(X_test[:, start_feature_set]))\n",
    "#         print('_____________________Q_min_current_____________________: {}'.format(Q_min_current))\n",
    "#         print('_____________________Q_min_____________________: {}'.format(Q_min))\n",
    "#         print('_____________________bad_iteration_count_____________________: {}'.format(bad_iteration_count))\n",
    "\n",
    "\n",
    "        if Q_min_current >= Q_min:\n",
    "            bad_iteration_count -= 1\n",
    "        print ('Q_min: %.4lf, set_size: %d' % (Q_min_current, len(start_feature_set)))\n",
    "    return start_feature_set"
   ]
  },
  {
   "cell_type": "code",
   "execution_count": 120,
   "metadata": {
    "collapsed": false
   },
   "outputs": [],
   "source": [
    "digits_data, digits_label = load_digits(return_X_y=True)"
   ]
  },
  {
   "cell_type": "code",
   "execution_count": 125,
   "metadata": {
    "collapsed": false
   },
   "outputs": [
    {
     "data": {
      "text/plain": [
       "array([[  0.,   0.,   5., ...,   0.,   0.,   0.],\n",
       "       [  0.,   0.,   0., ...,  10.,   0.,   0.],\n",
       "       [  0.,   0.,   0., ...,  16.,   9.,   0.],\n",
       "       ..., \n",
       "       [  0.,   0.,   1., ...,   6.,   0.,   0.],\n",
       "       [  0.,   0.,   2., ...,  12.,   0.,   0.],\n",
       "       [  0.,   0.,  10., ...,  12.,   1.,   0.]])"
      ]
     },
     "execution_count": 125,
     "metadata": {},
     "output_type": "execute_result"
    }
   ],
   "source": [
    "digits_data"
   ]
  },
  {
   "cell_type": "code",
   "execution_count": 123,
   "metadata": {
    "collapsed": false
   },
   "outputs": [
    {
     "data": {
      "text/plain": [
       "1797"
      ]
     },
     "execution_count": 123,
     "metadata": {},
     "output_type": "execute_result"
    }
   ],
   "source": [
    "len(digits_label)"
   ]
  },
  {
   "cell_type": "code",
   "execution_count": 126,
   "metadata": {
    "collapsed": true
   },
   "outputs": [],
   "source": [
    "X_train, X_test, Y_train, Y_test = train_test_split(digits_data, digits_label, test_size=0.33)"
   ]
  },
  {
   "cell_type": "code",
   "execution_count": 135,
   "metadata": {
    "collapsed": true
   },
   "outputs": [],
   "source": [
    "trial_feature_set = ['0', '2', '4']"
   ]
  },
  {
   "cell_type": "code",
   "execution_count": 140,
   "metadata": {
    "collapsed": false
   },
   "outputs": [
    {
     "data": {
      "text/plain": [
       "['0', '2', '4', '6', '6']"
      ]
     },
     "execution_count": 140,
     "metadata": {},
     "output_type": "execute_result"
    }
   ],
   "source": [
    "trial_feature_set.append('6')\n",
    "trial_feature_set"
   ]
  },
  {
   "cell_type": "code",
   "execution_count": 137,
   "metadata": {
    "collapsed": false
   },
   "outputs": [],
   "source": [
    "a = X_train[:, trial_feature_set]"
   ]
  },
  {
   "cell_type": "code",
   "execution_count": 138,
   "metadata": {
    "collapsed": false
   },
   "outputs": [
    {
     "data": {
      "text/plain": [
       "(1203, 3)"
      ]
     },
     "execution_count": 138,
     "metadata": {},
     "output_type": "execute_result"
    }
   ],
   "source": [
    "a.shape"
   ]
  },
  {
   "cell_type": "code",
   "execution_count": 134,
   "metadata": {
    "collapsed": false
   },
   "outputs": [
    {
     "data": {
      "text/plain": [
       "array([7, 5, 1, ..., 1, 7, 3])"
      ]
     },
     "execution_count": 134,
     "metadata": {},
     "output_type": "execute_result"
    }
   ],
   "source": [
    "Y_train"
   ]
  },
  {
   "cell_type": "code",
   "execution_count": 234,
   "metadata": {
    "collapsed": false
   },
   "outputs": [
    {
     "name": "stdout",
     "output_type": "stream",
     "text": [
      "Q_min: 0.728956228956229, set_size: 1, added: 61\n",
      "Q_min: 0.5875420875420876, set_size: 2, added: 21\n",
      "Q_min: 0.45959595959595956, set_size: 3, added: 2\n",
      "Q_min: 0.3720538720538721, set_size: 4, added: 33\n",
      "Q_min: 0.2794612794612794, set_size: 5, added: 51\n",
      "Q_min: 0.21885521885521886, set_size: 6, added: 26\n",
      "Q_min: 0.16161616161616166, set_size: 7, added: 43\n",
      "Q_min: 0.11784511784511786, set_size: 8, added: 19\n",
      "Q_min: 0.09427609427609429, set_size: 9, added: 42\n",
      "Q_min: 0.0757575757575758, set_size: 10, added: 28\n",
      "Q_min: 0.06060606060606055, set_size: 11, added: 10\n",
      "Q_min: 0.03872053872053871, set_size: 12, added: 29\n",
      "Q_min: 0.03198653198653201, set_size: 13, added: 46\n",
      "Q_min: 0.030303030303030276, set_size: 14, added: 15\n",
      "Q_min: 0.030303030303030276, set_size: 15, added: 0\n",
      "Q_min: 0.030303030303030276, set_size: 16, added: 7\n",
      "Q_min: 0.030303030303030276, set_size: 17, added: 8\n",
      "Q_min: 0.030303030303030276, set_size: 18, added: 16\n",
      "feature set size: 13\n",
      "Q_min: 0.03198653198653201, set_size: 13, deleted: {15}\n",
      "feature set size: 12\n",
      "Q_min: 0.03872053872053871, set_size: 12, deleted: {46}\n",
      "feature set size: 11\n",
      "Q_min: 0.05218855218855223, set_size: 11, deleted: {2}\n",
      "feature set size: 10\n",
      "Q_min: 0.05555555555555558, set_size: 10, deleted: {33}\n",
      "Q_min: 0.0303, set_size: 14\n",
      "Q_min: 0.030303030303030276, set_size: 15, added: 0\n",
      "Q_min: 0.030303030303030276, set_size: 16, added: 7\n",
      "Q_min: 0.030303030303030276, set_size: 17, added: 8\n",
      "Q_min: 0.030303030303030276, set_size: 18, added: 16\n",
      "feature set size: 13\n",
      "Q_min: 0.03198653198653201, set_size: 13, deleted: {15}\n",
      "feature set size: 12\n",
      "Q_min: 0.03872053872053871, set_size: 12, deleted: {46}\n",
      "feature set size: 11\n",
      "Q_min: 0.05218855218855223, set_size: 11, deleted: {2}\n",
      "feature set size: 10\n",
      "Q_min: 0.05555555555555558, set_size: 10, deleted: {33}\n",
      "Q_min: 0.0303, set_size: 14\n",
      "Q_min: 0.030303030303030276, set_size: 15, added: 0\n",
      "Q_min: 0.030303030303030276, set_size: 16, added: 7\n",
      "Q_min: 0.030303030303030276, set_size: 17, added: 8\n",
      "Q_min: 0.030303030303030276, set_size: 18, added: 16\n",
      "feature set size: 13\n",
      "Q_min: 0.03198653198653201, set_size: 13, deleted: {15}\n",
      "feature set size: 12\n",
      "Q_min: 0.03872053872053871, set_size: 12, deleted: {46}\n",
      "feature set size: 11\n",
      "Q_min: 0.05218855218855223, set_size: 11, deleted: {2}\n",
      "feature set size: 10\n",
      "Q_min: 0.05555555555555558, set_size: 10, deleted: {33}\n",
      "Q_min: 0.0303, set_size: 14\n",
      "CPU times: user 19.3 s, sys: 75.4 ms, total: 19.4 s\n",
      "Wall time: 19.4 s\n",
      "CPU times: user 15.9 ms, sys: 179 µs, total: 16.1 ms\n",
      "Wall time: 15.9 ms\n"
     ]
    },
    {
     "data": {
      "text/plain": [
       "0.96969696969696972"
      ]
     },
     "execution_count": 234,
     "metadata": {},
     "output_type": "execute_result"
    }
   ],
   "source": [
    "# проверьте вашу реализацию\n",
    "estimator = KNeighborsClassifier()\n",
    "%time feature_set = add_del(estimator, list(range(X_train.shape[1])), X_train, Y_train, X_test, Y_test, look_forward=4)\n",
    "%time accuracy_score(Y_test, estimator.fit(X_train[:, feature_set], Y_train).predict(X_test[:, feature_set]))"
   ]
  },
  {
   "cell_type": "code",
   "execution_count": null,
   "metadata": {
    "collapsed": true
   },
   "outputs": [],
   "source": []
  }
 ],
 "metadata": {
  "anaconda-cloud": {},
  "kernelspec": {
   "display_name": "Python 3",
   "language": "python",
   "name": "python3"
  }
 },
 "nbformat": 4,
 "nbformat_minor": 1
}
